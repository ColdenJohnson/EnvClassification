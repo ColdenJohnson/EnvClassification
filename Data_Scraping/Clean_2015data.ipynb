{
 "cells": [
  {
   "cell_type": "code",
   "execution_count": 41,
   "metadata": {},
   "outputs": [
    {
     "name": "stdout",
     "output_type": "stream",
     "text": [
      "0        1\n",
      "1        0\n",
      "2        1\n",
      "3        0\n",
      "4        0\n",
      "        ..\n",
      "25768    0\n",
      "25769    0\n",
      "25770    0\n",
      "25771    0\n",
      "25772    0\n",
      "Name: env, Length: 25773, dtype: int64\n"
     ]
    }
   ],
   "source": [
    "# clean 2017/2018 data\n",
    "import pandas as pd\n",
    "\n",
    "path = '/Users/colden/Documents/VSCode/Emos_Classification/Environment_Data_2015_2016.csv'\n",
    "data = pd.read_csv(path)\n",
    "\n",
    "data['env'] = data['env'].fillna(-1).astype(int)\n",
    "\n",
    "\n",
    "# -1 to 1\n",
    "data.loc[data['nteecc'].str.contains('C', 'env')] = data.loc[data['nteecc'].str.contains('C', 'env')].replace(-1, 1)\n",
    "\n",
    "nteecc_list_to1 = ['D01', 'D02', 'D03', 'D05', 'D32', 'K25']\n",
    "data.loc[data['nteecc'].isin(nteecc_list_to1), 'env'] = data.loc[data['nteecc'].isin(nteecc_list_to1), 'env'].replace(-1, 1)\n",
    "\n",
    "# -1 to 0\n",
    "data.loc[data['nteecc'].str.contains('S'), 'env'] = data.loc[data['nteecc'].str.contains('C|S'), 'env'].replace(-1, 0)\n",
    "\n",
    "nteecc_list_to0 = ['A56', 'K26', 'K28', 'K30', 'N61', 'O52', 'R20', 'D11', 'D12', 'D19', 'D20', 'D30', 'D31', 'D40', 'D50', 'D60', 'D61', 'D99', 'K20', 'R22']\n",
    "data.loc[data['nteecc'].isin(nteecc_list_to0), 'env'] = data.loc[data['nteecc'].isin(nteecc_list_to0), 'env'].replace(-1, 0)\n",
    "\n",
    "\n",
    "print(data['env'])\n",
    "data.to_csv('Environment_Data_2015_2016_cleaned.csv', index=False)\n"
   ]
  },
  {
   "cell_type": "code",
   "execution_count": 44,
   "metadata": {},
   "outputs": [
    {
     "name": "stdout",
     "output_type": "stream",
     "text": [
      "env\n",
      "0    20182\n",
      "1     7169\n",
      "Name: count, dtype: int64\n"
     ]
    }
   ],
   "source": [
    "# Clean 2005 data\n",
    "\n",
    "import pandas as pd\n",
    "\n",
    "file_path = \"/Users/colden/Documents/VSCode/Emos_Classification/Environment_Data_2005.csv\"\n",
    "data = pd.read_csv(file_path)\n",
    "data = data.rename(columns={'p3orgpur': 'mission'})\n",
    "\n",
    "#set value to 1 if env is 1 or 2, else set to 0\n",
    "data['env'] = data['env'].apply(lambda x: 1 if x in [1, 2] else 0)\n",
    "data['orig_description'] = data['mission']\n",
    "\n",
    "print(data['env'].value_counts())\n",
    "\n",
    "\n",
    "data.to_csv('Environment_Data_2005_cleaned.csv', index=False)"
   ]
  }
 ],
 "metadata": {
  "kernelspec": {
   "display_name": ".venv",
   "language": "python",
   "name": "python3"
  },
  "language_info": {
   "codemirror_mode": {
    "name": "ipython",
    "version": 3
   },
   "file_extension": ".py",
   "mimetype": "text/x-python",
   "name": "python",
   "nbconvert_exporter": "python",
   "pygments_lexer": "ipython3",
   "version": "3.9.6"
  }
 },
 "nbformat": 4,
 "nbformat_minor": 2
}
